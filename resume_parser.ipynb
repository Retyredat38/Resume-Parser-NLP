{
 "cells": [
  {
   "cell_type": "code",
   "execution_count": null,
   "id": "cba88b9e-fc88-4b6d-8422-37c804a762a0",
   "metadata": {},
   "outputs": [],
   "source": [
    "# 🧾 Resume Parser using NLP (spaCy)\n",
    "\n",
    "This project uses Natural Language Processing to extract structured information from unstructured resume text files.\n",
    "\n",
    "## 🎯 Goals\n",
    "\n",
    "- Parse resume files using spaCy and regex\n",
    "- Extract name, email, phone, education, and skills\n",
    "- Format results into structured output\n"
   ]
  },
  {
   "cell_type": "code",
   "execution_count": null,
   "id": "a8410585-8864-47c7-a98f-6ac5933bf2a3",
   "metadata": {},
   "outputs": [],
   "source": [
    "## 📂 Load Resume & spaCy Pipeline\n"
   ]
  },
  {
   "cell_type": "code",
   "execution_count": null,
   "id": "1f2ff567-cac2-4528-87df-35880c20b47f",
   "metadata": {},
   "outputs": [],
   "source": [
    "## 🔍 Extract Key Information\n",
    "- Name (first PERSON entity)\n",
    "- Email (regex)\n",
    "- Phone number (regex)\n",
    "- Education (keyword scan)\n",
    "- Skills (section-based pattern)\n"
   ]
  },
  {
   "cell_type": "code",
   "execution_count": null,
   "id": "0f8e8fff-8612-41b8-aa30-8d20e81014ee",
   "metadata": {},
   "outputs": [],
   "source": [
    "## 🧹 Cleaned & Structured Output\n",
    "Resume summary is stored as a Python dictionary and saved to JSON/CSV.\n"
   ]
  },
  {
   "cell_type": "code",
   "execution_count": 1,
   "id": "28341906-309f-403d-97a2-54cfa3bb4848",
   "metadata": {},
   "outputs": [
    {
     "name": "stdout",
     "output_type": "stream",
     "text": [
      "Jeff Lebowski\n",
      "Anytown — PERSON\n",
      "888 — CARDINAL\n",
      "Professional Summary\n",
      "Learning & Development Specialist — ORG\n",
      "Organizational Strategist — ORG\n",
      "25+ years — DATE\n",
      "L&D — ORG\n",
      "first — ORDINAL\n",
      "AI — GPE\n",
      "Core Competencies\n",
      "Learning Strategy & Curriculum Design • Organizational Development • Change Management — ORG\n",
      "Science & Technology Corporation — ORG\n"
     ]
    }
   ],
   "source": [
    "# Resume Parser Starter – Load Text + spaCy Setup\n",
    "\n",
    "import spacy\n",
    "import re\n",
    "\n",
    "# Load spaCy model\n",
    "nlp = spacy.load(\"en_core_web_sm\")\n",
    "\n",
    "# Load sample resume text\n",
    "with open(\"Sample Resumes/resume1.txt\", \"r\", encoding=\"utf-8\") as file:\n",
    "    resume_text = file.read()\n",
    "\n",
    "# Run through spaCy pipeline\n",
    "doc = nlp(resume_text)\n",
    "\n",
    "# Preview first few named entities\n",
    "for ent in doc.ents[:10]:\n",
    "    print(f\"{ent.text} — {ent.label_}\")\n"
   ]
  },
  {
   "cell_type": "code",
   "execution_count": 2,
   "id": "22cc56ac-dcff-40c3-b1da-feae20a623cf",
   "metadata": {},
   "outputs": [
    {
     "name": "stdout",
     "output_type": "stream",
     "text": [
      "Name: Jeff Lebowski\n",
      "Anytown\n"
     ]
    }
   ],
   "source": [
    "# Extract name: first PERSON entity\n",
    "name = None\n",
    "for ent in doc.ents:\n",
    "    if ent.label_ == \"PERSON\":\n",
    "        name = ent.text\n",
    "        break\n",
    "\n",
    "print(\"Name:\", name)\n"
   ]
  },
  {
   "cell_type": "code",
   "execution_count": 4,
   "id": "ad883b0c-7685-47dd-859a-cba29447891c",
   "metadata": {},
   "outputs": [
    {
     "name": "stdout",
     "output_type": "stream",
     "text": [
      "Email: thedude@compuserve.com\n"
     ]
    }
   ],
   "source": [
    "# Extract email using regex\n",
    "email = re.findall(r\"[a-zA-Z0-9_.+-]+@[a-zA-Z0-9-]+\\.[a-zA-Z0-9-.]+\", resume_text)\n",
    "print(\"Email:\", email[0] if email else \"Not found\")\n"
   ]
  },
  {
   "cell_type": "code",
   "execution_count": 5,
   "id": "1bf93c95-7ed0-4a0a-95cb-8a4d37f1447a",
   "metadata": {},
   "outputs": [
    {
     "name": "stdout",
     "output_type": "stream",
     "text": [
      "Phone: 888-555-1212\n"
     ]
    }
   ],
   "source": [
    "# Extract phone number (basic pattern match)\n",
    "phone = re.findall(r\"\\(?\\d{3}\\)?[-.\\s]?\\d{3}[-.\\s]?\\d{4}\", resume_text)\n",
    "print(\"Phone:\", phone[0] if phone else \"Not found\")\n"
   ]
  },
  {
   "cell_type": "code",
   "execution_count": 6,
   "id": "29106853-550e-43cd-a145-9e824d801447",
   "metadata": {},
   "outputs": [
    {
     "name": "stdout",
     "output_type": "stream",
     "text": [
      "Education Found: ['Bachelor of Applied Science, Human Resource Management — Pensacola State College', 'Bachelor of Applied Science, Business Administration — Pensacola State College']\n"
     ]
    }
   ],
   "source": [
    "# Education keywords to scan for\n",
    "education_keywords = [\"B.A.\", \"B.S.\", \"M.A.\", \"M.S.\", \"MBA\", \"PhD\", \"Bachelor\", \"Master\", \"Doctorate\", \"Associate\", \"High School\"]\n",
    "\n",
    "education_found = []\n",
    "for line in resume_text.split('\\n'):\n",
    "    for keyword in education_keywords:\n",
    "        if keyword.lower() in line.lower():\n",
    "            education_found.append(line.strip())\n",
    "\n",
    "print(\"Education Found:\", education_found)\n"
   ]
  },
  {
   "cell_type": "code",
   "execution_count": 9,
   "id": "ea4e016a-3deb-4f02-a8da-37360de1bf82",
   "metadata": {},
   "outputs": [
    {
     "name": "stdout",
     "output_type": "stream",
     "text": [
      "Cleaned Skills: ['Learning Strategy & Curriculum Design • Organizational Development • Change Management', 'Training Needs Analysis • Instructional Design • AI-Integrated Training Programs', 'Leadership Coaching • Process Improvement • Cross-Functional Collaboration', 'Learning Management Systems (LMS) • Performance Enablement • Compliance Training', '________________________________________', 'Professional Experience', 'TISTA Science & Technology Corporation — Remote, FL', 'Learning & Development Specialist | Nov 2024 – Present', 'Designed and piloted AI/Data Analytics curriculum projected to improve workforce training effectiveness by 30%', 'Conducted organization-wide learning needs assessments, mapping results to strategic workforce planning', 'Partnered with HR and Compliance teams to align L&D initiatives with policy, DEI, and culture goals', 'Integrated AI tools into course delivery and analysis to monitor training efficacy in real-time', 'Strategic Initiatives Consultant | Apr 2023 – Present', 'Led internal mentorship programming for early-career professionals across operations and technical roles', 'Developed operational playbooks for L&D and engagement programs across cross-functional teams', 'Delivered workforce strategy recommendations to leadership to improve productivity and knowledge transfer', 'Spahr Brewing Company — Pensacola, FL', 'Operations & Training Lead | Oct 2018 – Oct 2022', 'Created employee training protocols for safety, compliance, customer service, and brewing operations', 'Conducted knowledge-sharing sessions to reinforce internal standards and improve team performance', 'Make-A-Wish Illinois — Hybrid', 'Outreach & Development Coordinator | Jan 2015 – Oct 2015', 'Facilitated internal staff development through communications and mission-alignment workshops', 'Led training for new volunteers and onboarding sessions for outreach partners', '________________________________________', 'Education', 'Bachelor of Applied Science, Human Resource Management — Pensacola State College', 'Bachelor of Applied Science, Business Administration — Pensacola State College', '________________________________________', 'Certifications & Training', 'Atlassian Agile Project Management | Atlassian (2025)', 'Google Project Management Certificate | Coursera', 'Google Data Analytics Certificate | Coursera', 'Lean Six Sigma | DAU (2014)', 'HBS: Coaching, Feedback, Change Management, Team Leadership, Time Management, and more', 'SHRM: Veterans at Work, Employing Abilities, Getting Talent Back to Work', '[Include additional Army/DoD learning courses if desired]', '________________________________________', 'Volunteer Leadership & Mentorship', 'Veteran Mentor – American Corporate Partners, Veterati, Post-Veterati', 'Metro Membership Leader – Team Rubicon Emerald Coast', 'Government Liaison – American Red Cross, Pensacola Chapter', 'Internal L&D Facilitator – Career readiness training, coaching, and resume writing sessions']\n"
     ]
    }
   ],
   "source": [
    "# Clean skill lines (remove bullets, tabs, etc.)\n",
    "cleaned_skills = []\n",
    "for skill in skills_section:\n",
    "    # Remove leading bullets, dashes, or tabs\n",
    "    skill = skill.lstrip(\"•-–\\t \").strip()\n",
    "    cleaned_skills.append(skill)\n",
    "\n",
    "print(\"Cleaned Skills:\", cleaned_skills)\n"
   ]
  },
  {
   "cell_type": "code",
   "execution_count": 10,
   "id": "911aff77-d977-4f73-af2e-825f8069c5c7",
   "metadata": {},
   "outputs": [
    {
     "name": "stdout",
     "output_type": "stream",
     "text": [
      "{'Education': ['Bachelor of Applied Science, Human Resource Management — '\n",
      "               'Pensacola State College',\n",
      "               'Bachelor of Applied Science, Business Administration — '\n",
      "               'Pensacola State College'],\n",
      " 'Email': 'thedude@compuserve.com',\n",
      " 'Name': 'Jeff Lebowski\\nAnytown',\n",
      " 'Phone': '888-555-1212',\n",
      " 'Skills': ['Learning Strategy & Curriculum Design • Organizational '\n",
      "            'Development • Change Management',\n",
      "            'Training Needs Analysis • Instructional Design • AI-Integrated '\n",
      "            'Training Programs',\n",
      "            'Leadership Coaching • Process Improvement • Cross-Functional '\n",
      "            'Collaboration',\n",
      "            'Learning Management Systems (LMS) • Performance Enablement • '\n",
      "            'Compliance Training',\n",
      "            '________________________________________',\n",
      "            'Professional Experience',\n",
      "            'TISTA Science & Technology Corporation — Remote, FL',\n",
      "            'Learning & Development Specialist | Nov 2024 – Present',\n",
      "            'Designed and piloted AI/Data Analytics curriculum projected to '\n",
      "            'improve workforce training effectiveness by 30%',\n",
      "            'Conducted organization-wide learning needs assessments, mapping '\n",
      "            'results to strategic workforce planning',\n",
      "            'Partnered with HR and Compliance teams to align L&D initiatives '\n",
      "            'with policy, DEI, and culture goals',\n",
      "            'Integrated AI tools into course delivery and analysis to monitor '\n",
      "            'training efficacy in real-time',\n",
      "            'Strategic Initiatives Consultant | Apr 2023 – Present',\n",
      "            'Led internal mentorship programming for early-career '\n",
      "            'professionals across operations and technical roles',\n",
      "            'Developed operational playbooks for L&D and engagement programs '\n",
      "            'across cross-functional teams',\n",
      "            'Delivered workforce strategy recommendations to leadership to '\n",
      "            'improve productivity and knowledge transfer',\n",
      "            'Spahr Brewing Company — Pensacola, FL',\n",
      "            'Operations & Training Lead | Oct 2018 – Oct 2022',\n",
      "            'Created employee training protocols for safety, compliance, '\n",
      "            'customer service, and brewing operations',\n",
      "            'Conducted knowledge-sharing sessions to reinforce internal '\n",
      "            'standards and improve team performance',\n",
      "            'Make-A-Wish Illinois — Hybrid',\n",
      "            'Outreach & Development Coordinator | Jan 2015 – Oct 2015',\n",
      "            'Facilitated internal staff development through communications and '\n",
      "            'mission-alignment workshops',\n",
      "            'Led training for new volunteers and onboarding sessions for '\n",
      "            'outreach partners',\n",
      "            '________________________________________',\n",
      "            'Education',\n",
      "            'Bachelor of Applied Science, Human Resource Management — '\n",
      "            'Pensacola State College',\n",
      "            'Bachelor of Applied Science, Business Administration — Pensacola '\n",
      "            'State College',\n",
      "            '________________________________________',\n",
      "            'Certifications & Training',\n",
      "            'Atlassian Agile Project Management | Atlassian (2025)',\n",
      "            'Google Project Management Certificate | Coursera',\n",
      "            'Google Data Analytics Certificate | Coursera',\n",
      "            'Lean Six Sigma | DAU (2014)',\n",
      "            'HBS: Coaching, Feedback, Change Management, Team Leadership, Time '\n",
      "            'Management, and more',\n",
      "            'SHRM: Veterans at Work, Employing Abilities, Getting Talent Back '\n",
      "            'to Work',\n",
      "            '[Include additional Army/DoD learning courses if desired]',\n",
      "            '________________________________________',\n",
      "            'Volunteer Leadership & Mentorship',\n",
      "            'Veteran Mentor – American Corporate Partners, Veterati, '\n",
      "            'Post-Veterati',\n",
      "            'Metro Membership Leader – Team Rubicon Emerald Coast',\n",
      "            'Government Liaison – American Red Cross, Pensacola Chapter',\n",
      "            'Internal L&D Facilitator – Career readiness training, coaching, '\n",
      "            'and resume writing sessions']}\n"
     ]
    }
   ],
   "source": [
    "# Final resume summary\n",
    "resume_summary = {\n",
    "    \"Name\": name,\n",
    "    \"Email\": email[0] if email else None,\n",
    "    \"Phone\": phone[0] if phone else None,\n",
    "    \"Education\": education_found,\n",
    "    \"Skills\": cleaned_skills\n",
    "}\n",
    "\n",
    "from pprint import pprint\n",
    "pprint(resume_summary)\n"
   ]
  },
  {
   "cell_type": "markdown",
   "id": "ca38d5b8-1e32-49b3-ba6e-287dd50a9464",
   "metadata": {},
   "source": [
    "import json\n",
    "\n",
    "with open(\"parsed_resume.json\", \"w\", encoding=\"utf-8\") as f:\n",
    "    json.dump(resume_summary, f, indent=4)\n",
    "\n",
    "print(\"Saved as parsed_resume.json\")\n"
   ]
  },
  {
   "cell_type": "code",
   "execution_count": 12,
   "id": "93986cab-4652-4f46-a1ca-0e09e4eb25e7",
   "metadata": {},
   "outputs": [
    {
     "name": "stdout",
     "output_type": "stream",
     "text": [
      "Saved as parsed_resume.csv\n"
     ]
    }
   ],
   "source": [
    "import pandas as pd\n",
    "\n",
    "# Flatten single-row summary to DataFrame\n",
    "df_summary = pd.DataFrame([resume_summary])\n",
    "df_summary.to_csv(\"parsed_resume.csv\", index=False)\n",
    "\n",
    "print(\"Saved as parsed_resume.csv\")\n"
   ]
  },
  {
   "cell_type": "code",
   "execution_count": null,
   "id": "9d4de884-1832-42ab-a2e4-63291f707ce7",
   "metadata": {},
   "outputs": [],
   "source": [
    "## ✅ Summary\n",
    "\n",
    "This project demonstrates a practical application of NLP using spaCy and regex to extract structured data from real-world resume documents.\n",
    "\n",
    "It lays the foundation for building more advanced parsing tools, such as:\n",
    "- Support for PDF files\n",
    "- Enhanced skill classification\n",
    "- Resume-job description matching\n"
   ]
  }
 ],
 "metadata": {
  "kernelspec": {
   "display_name": "Python 3 (ipykernel)",
   "language": "python",
   "name": "python3"
  },
  "language_info": {
   "codemirror_mode": {
    "name": "ipython",
    "version": 3
   },
   "file_extension": ".py",
   "mimetype": "text/x-python",
   "name": "python",
   "nbconvert_exporter": "python",
   "pygments_lexer": "ipython3",
   "version": "3.12.7"
  }
 },
 "nbformat": 4,
 "nbformat_minor": 5
}
